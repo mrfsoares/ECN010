{
 "cells": [
  {
   "cell_type": "markdown",
   "id": "4f37fe47-29c7-4bc2-b56d-2289361f7160",
   "metadata": {},
   "source": [
    "# Prova 3\n",
    "**Nome:** Maria Rafaela Soares"
   ]
  },
  {
   "cell_type": "markdown",
   "id": "ca7fb216-5635-4028-8431-e161a88de1a1",
   "metadata": {},
   "source": [
    "# Questão 2:\n",
    "\n",
    "Utilizando um conjunto de dados que não tenhamos abordado durante as aulas e utilizando Python ou R, construa um gráfico que atenda os pilares da visualização de dados e explique porque ele os atende."
   ]
  },
  {
   "cell_type": "code",
   "execution_count": 1,
   "id": "8e1330e8-5444-46e9-82e8-d7b110eb23d5",
   "metadata": {},
   "outputs": [],
   "source": [
    "import pandas as pd\n",
    "import matplotlib.pyplot as plt\n",
    "import seaborn as sns\n",
    "plt.style.use('ggplot')"
   ]
  },
  {
   "cell_type": "markdown",
   "id": "be72e35b-8e03-43fb-9ecd-516c44247f88",
   "metadata": {},
   "source": [
    "## Dados utilizados\n",
    "\n",
    "### PIB por Unidade da Federação, 2019\n",
    "#### Fonte: \n",
    "``https://www.ibge.gov.br/estatisticas/economicas/contas-nacionais/9088-produto-interno-bruto-dos-municipios.html?=&t=destaques&utm_source=landing&utm_medium=explica&utm_campaign=pib``"
   ]
  },
  {
   "cell_type": "markdown",
   "id": "b68da7f3-6673-46da-ad85-dc0ab513d04c",
   "metadata": {},
   "source": [
    "### Carregando dados"
   ]
  },
  {
   "cell_type": "code",
   "execution_count": 2,
   "id": "d8ea4909-591b-40da-8488-0e0f6fc8ca88",
   "metadata": {},
   "outputs": [
    {
     "data": {
      "text/html": [
       "<div>\n",
       "<style scoped>\n",
       "    .dataframe tbody tr th:only-of-type {\n",
       "        vertical-align: middle;\n",
       "    }\n",
       "\n",
       "    .dataframe tbody tr th {\n",
       "        vertical-align: top;\n",
       "    }\n",
       "\n",
       "    .dataframe thead th {\n",
       "        text-align: right;\n",
       "    }\n",
       "</style>\n",
       "<table border=\"1\" class=\"dataframe\">\n",
       "  <thead>\n",
       "    <tr style=\"text-align: right;\">\n",
       "      <th></th>\n",
       "      <th>Acre</th>\n",
       "      <th>Alagoas</th>\n",
       "      <th>Amapá</th>\n",
       "      <th>Amazonas</th>\n",
       "      <th>Bahia</th>\n",
       "      <th>Ceará</th>\n",
       "      <th>Distrito Federal</th>\n",
       "      <th>Espírito Santo</th>\n",
       "      <th>Goiás</th>\n",
       "      <th>Maranhão</th>\n",
       "      <th>...</th>\n",
       "      <th>Piauí</th>\n",
       "      <th>Rio Grande do Norte</th>\n",
       "      <th>Rio Grande do Sul</th>\n",
       "      <th>Rio de Janeiro</th>\n",
       "      <th>Rondônia</th>\n",
       "      <th>Roraima</th>\n",
       "      <th>Santa Catarina</th>\n",
       "      <th>Sergipe</th>\n",
       "      <th>São Paulo</th>\n",
       "      <th>Tocantins</th>\n",
       "    </tr>\n",
       "  </thead>\n",
       "  <tbody>\n",
       "    <tr>\n",
       "      <th>0</th>\n",
       "      <td>15630017</td>\n",
       "      <td>58963729</td>\n",
       "      <td>17496661</td>\n",
       "      <td>108181091</td>\n",
       "      <td>293240504</td>\n",
       "      <td>163575327</td>\n",
       "      <td>273613711</td>\n",
       "      <td>137345595</td>\n",
       "      <td>208672492</td>\n",
       "      <td>97339938</td>\n",
       "      <td>...</td>\n",
       "      <td>52780785</td>\n",
       "      <td>71336780</td>\n",
       "      <td>482464177</td>\n",
       "      <td>779927917</td>\n",
       "      <td>47091336</td>\n",
       "      <td>14292227</td>\n",
       "      <td>323263857</td>\n",
       "      <td>44689483</td>\n",
       "      <td>2348338000</td>\n",
       "      <td>39355941</td>\n",
       "    </tr>\n",
       "  </tbody>\n",
       "</table>\n",
       "<p>1 rows × 27 columns</p>\n",
       "</div>"
      ],
      "text/plain": [
       "       Acre   Alagoas     Amapá   Amazonas      Bahia      Ceará  \\\n",
       "0  15630017  58963729  17496661  108181091  293240504  163575327   \n",
       "\n",
       "   Distrito Federal  Espírito Santo      Goiás  Maranhão  ...     Piauí  \\\n",
       "0         273613711       137345595  208672492  97339938  ...  52780785   \n",
       "\n",
       "   Rio Grande do Norte  Rio Grande do Sul  Rio de Janeiro  Rondônia   Roraima  \\\n",
       "0             71336780          482464177       779927917  47091336  14292227   \n",
       "\n",
       "   Santa Catarina   Sergipe   São Paulo  Tocantins  \n",
       "0       323263857  44689483  2348338000   39355941  \n",
       "\n",
       "[1 rows x 27 columns]"
      ]
     },
     "execution_count": 2,
     "metadata": {},
     "output_type": "execute_result"
    }
   ],
   "source": [
    "pib = pd.read_csv('20220209102125.csv', sep=';', header=1)\n",
    "pib"
   ]
  },
  {
   "cell_type": "code",
   "execution_count": 3,
   "id": "e389a15a-c632-4cb0-9300-bd65f0e0d8d4",
   "metadata": {},
   "outputs": [],
   "source": [
    "pib = pib.stack().reset_index().rename(\n",
    "    columns={'level_1':'unidade_federacao', 0:'pib'})[['unidade_federacao','pib']]"
   ]
  },
  {
   "cell_type": "markdown",
   "id": "bbcbb02a-f625-4758-b8e8-5a2aab0900aa",
   "metadata": {},
   "source": [
    "### Plotando gráfico"
   ]
  },
  {
   "cell_type": "code",
   "execution_count": 4,
   "id": "c1c9f824-565e-4ac7-a374-07c9da067d28",
   "metadata": {},
   "outputs": [
    {
     "data": {
      "text/plain": [
       "Text(0.5, 0.98, 'PIB por Unidade da Federação\\n Brasil - 2019')"
      ]
     },
     "execution_count": 4,
     "metadata": {},
     "output_type": "execute_result"
    },
    {
     "data": {
      "image/png": "[encoded data removed]",
      "text/plain": [
       "<Figure size 1080x504 with 1 Axes>"
      ]
     },
     "metadata": {},
     "output_type": "display_data"
    }
   ],
   "source": [
    "sns.set_context('paper')\n",
    "\n",
    "f, ax = plt.subplots(figsize = (15,7))\n",
    "\n",
    "sns.set_color_codes('dark')\n",
    "cg = sns.barplot(x = 'pib', y = 'unidade_federacao', data = pib,\n",
    "            label = 'PIB Unidades da Federação - 2019', color = 'b', edgecolor = 'w')\n",
    "sns.despine(left = True, bottom = True)\n",
    "plt.ticklabel_format(style='plain', axis='x')\n",
    "sns.despine()\n",
    "plt.ylabel('Unidades da Federação')\n",
    "plt.xlabel('PIB')\n",
    "plt.suptitle('PIB por Unidade da Federação\\n Brasil - 2019')"
   ]
  },
  {
   "cell_type": "markdown",
   "id": "8129f59d-7a38-46dd-8efc-40b37447b870",
   "metadata": {},
   "source": [
    "**Por fim, o gráfico apresentado atende os pilares da visualização de dados por:**\n",
    "\n",
    "1. Transmite com clareza a informação;\n",
    "2. É preciso. Objetiva-se a transmitir para o receptor o valor do PIB brasileiro por unidade da federação e atende bem essa função, com clareza e sem induzir o leitor ao erro;\n",
    "3. É efeitivo, pois transmite a mensagem a qual se objetiva."
   ]
  },
  {
   "cell_type": "markdown",
   "id": "729cf44a-4274-4c88-bb2a-0da9e614b86c",
   "metadata": {},
   "source": [
    "# Questão 3:\n",
    "Considerando o conjunto de dados, em anexo, relacionado à medição da largura e do comprimento da pétala e da sépala de uma amostra de flores íris, construa um gráfico boxplot para a largura da pétala separando os grupos pelas espécies de íris."
   ]
  },
  {
   "cell_type": "code",
   "execution_count": 5,
   "id": "162d9a5e-570f-4135-ac59-1dcebc59e6db",
   "metadata": {},
   "outputs": [
    {
     "data": {
      "text/html": [
       "<div>\n",
       "<style scoped>\n",
       "    .dataframe tbody tr th:only-of-type {\n",
       "        vertical-align: middle;\n",
       "    }\n",
       "\n",
       "    .dataframe tbody tr th {\n",
       "        vertical-align: top;\n",
       "    }\n",
       "\n",
       "    .dataframe thead th {\n",
       "        text-align: right;\n",
       "    }\n",
       "</style>\n",
       "<table border=\"1\" class=\"dataframe\">\n",
       "  <thead>\n",
       "    <tr style=\"text-align: right;\">\n",
       "      <th></th>\n",
       "      <th>Comprimento_Sepala</th>\n",
       "      <th>Largura_Sepala</th>\n",
       "      <th>Comprimento_Petala</th>\n",
       "      <th>Lagura_Petala</th>\n",
       "      <th>Especie</th>\n",
       "    </tr>\n",
       "  </thead>\n",
       "  <tbody>\n",
       "    <tr>\n",
       "      <th>0</th>\n",
       "      <td>5.1</td>\n",
       "      <td>3.5</td>\n",
       "      <td>1.4</td>\n",
       "      <td>0.2</td>\n",
       "      <td>Iris-setosa</td>\n",
       "    </tr>\n",
       "    <tr>\n",
       "      <th>1</th>\n",
       "      <td>4.9</td>\n",
       "      <td>3.0</td>\n",
       "      <td>1.4</td>\n",
       "      <td>0.2</td>\n",
       "      <td>Iris-setosa</td>\n",
       "    </tr>\n",
       "    <tr>\n",
       "      <th>2</th>\n",
       "      <td>4.7</td>\n",
       "      <td>3.2</td>\n",
       "      <td>1.3</td>\n",
       "      <td>0.2</td>\n",
       "      <td>Iris-setosa</td>\n",
       "    </tr>\n",
       "    <tr>\n",
       "      <th>3</th>\n",
       "      <td>4.6</td>\n",
       "      <td>3.1</td>\n",
       "      <td>1.5</td>\n",
       "      <td>0.2</td>\n",
       "      <td>Iris-setosa</td>\n",
       "    </tr>\n",
       "    <tr>\n",
       "      <th>4</th>\n",
       "      <td>5.0</td>\n",
       "      <td>3.6</td>\n",
       "      <td>1.4</td>\n",
       "      <td>0.2</td>\n",
       "      <td>Iris-setosa</td>\n",
       "    </tr>\n",
       "  </tbody>\n",
       "</table>\n",
       "</div>"
      ],
      "text/plain": [
       "   Comprimento_Sepala  Largura_Sepala  Comprimento_Petala  Lagura_Petala  \\\n",
       "0                 5.1             3.5                 1.4            0.2   \n",
       "1                 4.9             3.0                 1.4            0.2   \n",
       "2                 4.7             3.2                 1.3            0.2   \n",
       "3                 4.6             3.1                 1.5            0.2   \n",
       "4                 5.0             3.6                 1.4            0.2   \n",
       "\n",
       "       Especie  \n",
       "0  Iris-setosa  \n",
       "1  Iris-setosa  \n",
       "2  Iris-setosa  \n",
       "3  Iris-setosa  \n",
       "4  Iris-setosa  "
      ]
     },
     "execution_count": 5,
     "metadata": {},
     "output_type": "execute_result"
    }
   ],
   "source": [
    "iris = pd.read_csv('IRIS.csv')\n",
    "iris.head()"
   ]
  },
  {
   "cell_type": "code",
   "execution_count": 6,
   "id": "0d835fdd-3c1c-4d68-aa77-5bbf5aa5226e",
   "metadata": {},
   "outputs": [
    {
     "data": {
      "text/plain": [
       "Text(0, 0.5, 'Lagura da Petala')"
      ]
     },
     "execution_count": 6,
     "metadata": {},
     "output_type": "execute_result"
    },
    {
     "data": {
      "image/png": "[encoded data removed]",
      "text/plain": [
       "<Figure size 432x288 with 1 Axes>"
      ]
     },
     "metadata": {},
     "output_type": "display_data"
    }
   ],
   "source": [
    "sns.set_context('paper')\n",
    "sns.set_color_codes('dark')\n",
    "sns.boxplot(x = 'Especie', y = 'Lagura_Petala', data = iris, palette='Set1')\n",
    "plt.suptitle('Boxplot: largura da pétala por espécies da flor íris')\n",
    "plt.ylabel('Lagura da Petala')"
   ]
  },
  {
   "cell_type": "markdown",
   "id": "909083e6-f15f-4913-8b41-9ae5ce3fc428",
   "metadata": {},
   "source": [
    "# Questão 4:\n",
    "\n",
    "Aplicando um teste de hipóteses para a média da variável da questão anterior e considerando as possíveis combinações entre as espécies de íris, apresente o resultado obtido e, a partir dele, discuta quais espécies podem ser consideradas como tendo características estatisticamente distintas para a variável em análise. Considere um grau de confiança de 95%."
   ]
  },
  {
   "cell_type": "code",
   "execution_count": 7,
   "id": "f9e6b06d-44bd-4a2d-b39e-52997757aedb",
   "metadata": {},
   "outputs": [
    {
     "data": {
      "text/plain": [
       "Text(0.5, 0, 'Lagura da Petala')"
      ]
     },
     "execution_count": 7,
     "metadata": {},
     "output_type": "execute_result"
    },
    {
     "data": {
      "image/png": "[encoded data removed]",
      "text/plain": [
       "<Figure size 432x288 with 1 Axes>"
      ]
     },
     "metadata": {},
     "output_type": "display_data"
    }
   ],
   "source": [
    "sns.set_context('paper')\n",
    "sns.histplot(hue = 'Especie', x = 'Lagura_Petala',\n",
    "             stat = 'density', data = iris,\n",
    "             kde = True, bins=30, palette='Set1')\n",
    "plt.suptitle('Histograma: largura da pétala por espécies da flor íris')\n",
    "plt.xlabel('Lagura da Petala')"
   ]
  },
  {
   "cell_type": "markdown",
   "id": "2ce0106d-8021-41a0-81ba-b262d69b6c8e",
   "metadata": {},
   "source": [
    "No gráfico acima, foi possível observar a distribuição de probabilidade associada a largura da petala cada espécie da flor íris. Com o auxílio visual do boxplot é possível notar, reforçadamente, o comportamento diferente para cada espécies no que tange a largura das petalas, deixando forte evidencia de distribuição distinta entre as espécies. "
   ]
  },
  {
   "cell_type": "markdown",
   "id": "a3058864-1f16-4e26-a63e-e9967bc8c59c",
   "metadata": {},
   "source": [
    "## Aplicando o teste de hipóteses:"
   ]
  },
  {
   "cell_type": "markdown",
   "id": "89378330-d47a-4dcf-8977-9a330a88f3e6",
   "metadata": {},
   "source": [
    "**Grupos são estatisticamente diferentes?**\n",
    "\n",
    "**H0:** distribuições possuem a mesma distribuição de probabilidade;\n",
    "\n",
    "**H1:** distribuições não possuem a mesma distribuição de probabilidade"
   ]
  },
  {
   "cell_type": "code",
   "execution_count": 8,
   "id": "d51bf00f-bd88-4553-9c21-35cd704f0ac5",
   "metadata": {},
   "outputs": [],
   "source": [
    "from scipy import stats"
   ]
  },
  {
   "cell_type": "code",
   "execution_count": 9,
   "id": "508c25f6-af43-4642-9976-6310b76a6a3c",
   "metadata": {},
   "outputs": [
    {
     "data": {
      "text/plain": [
       "array(['Iris-setosa', 'Iris-versicolor', 'Iris-virginica'], dtype=object)"
      ]
     },
     "execution_count": 9,
     "metadata": {},
     "output_type": "execute_result"
    }
   ],
   "source": [
    "iris.Especie.unique()"
   ]
  },
  {
   "cell_type": "code",
   "execution_count": 10,
   "id": "237b4173-5666-42f3-b324-d6711629da4a",
   "metadata": {},
   "outputs": [
    {
     "name": "stdout",
     "output_type": "stream",
     "text": [
      "______________________________________________________________________\n",
      "Iris-setosa vs Iris-versicolor:\n",
      "t_value: -34.01237858829048\n",
      "p_value: 4.589080615710866e-56\n",
      "______________________________________________________________________\n",
      "Iris-setosa vs Iris-virginica:\n",
      "t_value: -42.738229672411165\n",
      "p_value: 3.582719502316063e-65\n",
      "______________________________________________________________________\n",
      "Iris-versicolor vs Iris-virginica:\n",
      "t_value: -42.738229672411165\n",
      "p_value: 3.582719502316063e-65\n",
      "______________________________________________________________________\n"
     ]
    }
   ],
   "source": [
    "# 'Iris-setosa' vs 'Iris-versicolor'\n",
    "t_value, p_value = stats.ttest_ind(iris[iris['Especie']=='Iris-setosa']\n",
    "                                   ['Lagura_Petala'], iris[iris['Especie']=='Iris-versicolor']\n",
    "                                   ['Lagura_Petala'])\n",
    "print('_'*70)\n",
    "print('Iris-setosa vs Iris-versicolor:')\n",
    "print('t_value:',t_value)\n",
    "print('p_value:',p_value)\n",
    "print('_'*70)\n",
    "\n",
    "# 'Iris-setosa' vs 'Iris-virginica'\n",
    "t_value2, p_value2 = stats.ttest_ind(iris[iris['Especie']=='Iris-setosa']\n",
    "                                   ['Lagura_Petala'], iris[iris['Especie']=='Iris-virginica']\n",
    "                                   ['Lagura_Petala'])\n",
    "print('Iris-setosa vs Iris-virginica:')\n",
    "print('t_value:',t_value2)\n",
    "print('p_value:',p_value2)\n",
    "print('_'*70)\n",
    "\n",
    "# 'Iris-versicolor' vs 'Iris-virginica'\n",
    "t_value3, p_value3 = stats.ttest_ind(iris[iris['Especie']=='Iris-versicolor']\n",
    "                                   ['Lagura_Petala'], iris[iris['Especie']=='Iris-virginica']\n",
    "                                   ['Lagura_Petala'])\n",
    "print('Iris-versicolor vs Iris-virginica:')\n",
    "print('t_value:',t_value2)\n",
    "print('p_value:',p_value2)\n",
    "print('_'*70)"
   ]
  },
  {
   "cell_type": "markdown",
   "id": "00ecdab5-f8b5-4045-81fa-1a92864bca2c",
   "metadata": {},
   "source": [
    "Para todas as distribuições comparadas, o p-valor obtido foi menor que 5%, isto é, p_value < 0.05. Com isso, rejeitamos H0 com um grau de confiança de 95%. Logo, conclui-se que os grupos fazem parte de distribuições de probabilidade distintas."
   ]
  },
  {
   "cell_type": "markdown",
   "id": "02b39713-e37f-48b3-ace5-f96da9a1ae58",
   "metadata": {},
   "source": [
    "**Obs:** _Questões 1, 5 e 6 estão no aquivo .pdf anexado na atividade._"
   ]
  }
 ],
 "metadata": {
  "kernelspec": {
   "display_name": "Python [conda env:root] *",
   "language": "python",
   "name": "conda-root-py"
  },
  "language_info": {
   "codemirror_mode": {
    "name": "ipython",
    "version": 3
   },
   "file_extension": ".py",
   "mimetype": "text/x-python",
   "name": "python",
   "nbconvert_exporter": "python",
   "pygments_lexer": "ipython3",
   "version": "3.9.7"
  }
 },
 "nbformat": 4,
 "nbformat_minor": 5
}
